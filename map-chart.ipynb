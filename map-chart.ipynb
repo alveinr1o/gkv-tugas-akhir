{
  "nbformat": 4,
  "nbformat_minor": 0,
  "metadata": {
    "colab": {
      "provenance": []
    },
    "kernelspec": {
      "name": "python3",
      "display_name": "Python 3"
    },
    "language_info": {
      "name": "python"
    }
  },
  "cells": [
    {
      "cell_type": "code",
      "execution_count": null,
      "metadata": {
        "id": "9bmuc8lHU6uH"
      },
      "outputs": [],
      "source": [
        "import pandas as pd\n",
        "import folium\n",
        "from folium.plugins import HeatMap, MarkerCluster\n",
        "import ipywidgets as widgets\n",
        "from IPython.display import display, clear_output"
      ]
    },
    {
      "cell_type": "markdown",
      "source": [
        "Untuk melanjutkan code harus mengakses dataset di link dan diupload ke session storage : https://ipb.link/dataset-maps-gkv-k1-kelompok6"
      ],
      "metadata": {
        "id": "FeHYeq2hGvFk"
      }
    },
    {
      "cell_type": "code",
      "source": [
        "# Membaca data\n",
        "data_padi = pd.read_csv('Produksi Padi 2015.csv')\n",
        "data_jagung = pd.read_csv('Produksi Jagung 2015.csv')\n",
        "data_ubi = pd.read_csv('Produksi Ubi Jalar 2015.csv')"
      ],
      "metadata": {
        "id": "N_XBsB7HU8N2"
      },
      "execution_count": null,
      "outputs": []
    },
    {
      "cell_type": "code",
      "source": [
        "# menambahkan data ke map\n",
        "def add_data_to_map(data, map_obj):\n",
        "    heatmap_data = [[row['latitude'], row['longitude'], row['produksi']] for index, row in data.iterrows()]\n",
        "    HeatMap(heatmap_data, radius=30, blur=15).add_to(map_obj)\n",
        "    marker_cluster = MarkerCluster().add_to(map_obj)\n",
        "    for index, row in data.iterrows():\n",
        "        folium.Marker(\n",
        "            [row['latitude'], row['longitude']],\n",
        "            popup=row['Provinsi'] + ': ' + str(row['produksi'])\n",
        "        ).add_to(marker_cluster)"
      ],
      "metadata": {
        "id": "Ckad6cH1U8-H"
      },
      "execution_count": null,
      "outputs": []
    },
    {
      "cell_type": "code",
      "source": [
        "dropdown = widgets.Dropdown(\n",
        "    options=['Padi', 'Jagung', 'Ubi Jalar'],\n",
        "    value='Padi',\n",
        "    description='Bahan Pokok:',\n",
        ")"
      ],
      "metadata": {
        "id": "YuHkMzvC1lLY"
      },
      "execution_count": null,
      "outputs": []
    },
    {
      "cell_type": "code",
      "source": [
        "map_obj = folium.Map(location=[-2.229296268774482, 113.11012749436296], zoom_start=5)"
      ],
      "metadata": {
        "id": "ZeBW2HuiU8iA"
      },
      "execution_count": null,
      "outputs": []
    },
    {
      "cell_type": "code",
      "source": [
        "def update_map(change):\n",
        "    global map_obj\n",
        "    map_obj = folium.Map(location=[-2.229296268774482, 113.11012749436296], zoom_start=5)\n",
        "    if change['new'] == 'Padi':\n",
        "        add_data_to_map(data_padi, map_obj)\n",
        "    elif change['new'] == 'Jagung':\n",
        "        add_data_to_map(data_jagung, map_obj)\n",
        "    elif change['new'] == 'Ubi Jalar':\n",
        "        add_data_to_map(data_ubi, map_obj)\n",
        "    clear_output(wait=True)\n",
        "    display(dropdown)\n",
        "    display(map_obj)"
      ],
      "metadata": {
        "id": "fqQNpMi_1nHI"
      },
      "execution_count": null,
      "outputs": []
    },
    {
      "cell_type": "code",
      "source": [
        "dropdown.observe(update_map, names='value')"
      ],
      "metadata": {
        "id": "Dh-KP_UA1pvA"
      },
      "execution_count": null,
      "outputs": []
    },
    {
      "cell_type": "code",
      "source": [
        "# Tampilan Map\n",
        "display(dropdown)\n",
        "display(map_obj)\n",
        "update_map({'new': 'Padi'})"
      ],
      "metadata": {
        "id": "kEgNr-Va1rlX"
      },
      "execution_count": null,
      "outputs": []
    }
  ]
}